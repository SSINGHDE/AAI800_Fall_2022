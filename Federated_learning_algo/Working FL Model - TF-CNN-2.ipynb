{
 "cells": [
  {
   "attachments": {},
   "cell_type": "markdown",
   "metadata": {},
   "source": [
    "### Author - Sidhanta Narayan Singhdeo\n",
    "\n",
    "### CWID  - 10465272\n",
    "### Course - AAI 800 (Special Problems in AI)\n",
    "### Project Advisor - Prof. Hong Man"
   ]
  },
  {
   "attachments": {},
   "cell_type": "markdown",
   "metadata": {},
   "source": [
    "## FL Model Build\n",
    "\n",
    "* The FL Architecture implemented below on the TFF frameework to perfom Image recognition on the CIFAR100 dataset.\n",
    "* The CIFAR 100 data is preprocessd and transformed to work with TFF framework\n",
    "* We make use of standard function available in TFF to perform the federated Learning.\n"
   ]
  },
  {
   "cell_type": "code",
   "execution_count": 32,
   "metadata": {},
   "outputs": [],
   "source": [
    "#Patch asyncio to allow nested event loops\n",
    "import nest_asyncio\n",
    "nest_asyncio.apply()"
   ]
  },
  {
   "cell_type": "code",
   "execution_count": 33,
   "metadata": {},
   "outputs": [],
   "source": [
    "#Load required Libraries\n",
    "import numpy as np\n",
    "import tensorflow as tf\n",
    "import tensorflow_federated as tff\n",
    "import functools\n",
    "import collections\n"
   ]
  },
  {
   "cell_type": "code",
   "execution_count": 34,
   "metadata": {},
   "outputs": [],
   "source": [
    "# Load Keras models \n",
    "from tensorflow.keras import layers\n",
    "from tensorflow.keras.layers import Conv2D, MaxPooling2D, ZeroPadding2D, GlobalAveragePooling2D, LeakyReLU\n",
    "from tensorflow.keras import utils\n",
    "from tensorflow.keras.layers import BatchNormalization\n",
    "from tensorflow.keras.optimizers import Adam\n",
    "from tensorflow.keras.layers import Dense, Dropout, Activation, Flatten\n",
    "from tensorflow.keras.models import Sequential\n",
    "from tensorflow.keras.layers import Input, Dense"
   ]
  },
  {
   "cell_type": "code",
   "execution_count": 35,
   "metadata": {},
   "outputs": [],
   "source": [
    "# Deactivates GPU execution, to tun on GPU set to [0,1,2..] depending on number of GPUs\n",
    "# Switched to CPU as GPU was giving errors due to limited memory\n",
    "import os\n",
    "os.environ['CUDA_VISIBLE_DEVICES'] = '-1'"
   ]
  },
  {
   "cell_type": "code",
   "execution_count": 36,
   "metadata": {},
   "outputs": [
    {
     "name": "stdout",
     "output_type": "stream",
     "text": [
      "Cannot detect physical GPU device in TF\n"
     ]
    }
   ],
   "source": [
    "# check GPUis switched off\n",
    "gpu_devices = tf.config.list_physical_devices('GPU')\n",
    "if not gpu_devices:\n",
    "  print('Cannot detect physical GPU device in TF')\n",
    "# tf.config.set_logical_device_configuration(\n",
    "#     gpu_devices[0], \n",
    "#     [tf.config.LogicalDeviceConfiguration(memory_limit=5120),\n",
    "#      tf.config.LogicalDeviceConfiguration(memory_limit=5120)])\n",
    "# tf.config.list_logical_devices()"
   ]
  },
  {
   "cell_type": "code",
   "execution_count": 37,
   "metadata": {},
   "outputs": [
    {
     "data": {
      "text/plain": [
       "'Hello, World!'"
      ]
     },
     "execution_count": 37,
     "metadata": {},
     "output_type": "execute_result"
    }
   ],
   "source": [
    "# Check TFF computation is running correctly\n",
    "def hello_world():\n",
    "  return 'Hello, World!'\n",
    "\n",
    "hello_world()\n"
   ]
  },
  {
   "attachments": {},
   "cell_type": "markdown",
   "metadata": {},
   "source": [
    "# Input Section\n",
    "Select values for parameters "
   ]
  },
  {
   "cell_type": "code",
   "execution_count": 38,
   "metadata": {},
   "outputs": [],
   "source": [
    "default_number_of_clients = 20\n",
    "NUMBER_OF_CLIENTS = int(input(\"Enter Number of Clients: \") or default_number_of_clients)\n",
    "\n",
    "default_number_of_rounds = 10\n",
    "NUMBER_OF_ROUNDS = int(input(\"Enter Number of Rounds: \") or default_number_of_rounds )\n",
    "\n",
    "default_client_dataset_size = 500\n",
    "MAX_CLIENT_DATASET_SIZE = int(input(\"Enter Max Client Datset Size: \") or default_client_dataset_size)\n",
    "\n",
    "default_client_epochs_per_round = 1\n",
    "CLIENT_EPOCHS_PER_ROUND = int(input(\"Enter Client Epochs pe round: \") or default_client_epochs_per_round)\n",
    "\n",
    "default_client_batch_size = 20\n",
    "CLIENT_BATCH_SIZE = int(input(\"Enter Client Batch Size: \") or default_client_batch_size)\n",
    "\n",
    "default_client_test_batch_size = 100\n",
    "TEST_BATCH_SIZE = int(input(\"Enter Test Batch Size: \") or default_client_test_batch_size)\n",
    "\n",
    "\n"
   ]
  },
  {
   "cell_type": "code",
   "execution_count": 39,
   "metadata": {},
   "outputs": [
    {
     "data": {
      "text/plain": [
       "'20/10/500/1/20'"
      ]
     },
     "execution_count": 39,
     "metadata": {},
     "output_type": "execute_result"
    }
   ],
   "source": [
    "hyperparameters = str(NUMBER_OF_CLIENTS)+'/'+str(NUMBER_OF_ROUNDS)+'/'+str(MAX_CLIENT_DATASET_SIZE)+'/'+str(CLIENT_EPOCHS_PER_ROUND)+'/'+str(CLIENT_BATCH_SIZE)\n",
    "hyperparameters"
   ]
  },
  {
   "attachments": {},
   "cell_type": "markdown",
   "metadata": {},
   "source": [
    "# Load CIFAR 100 Data \n",
    "The simulation Datasets have predefined clients which are subsets of the whole dataset\n",
    "No need to create seperate clients data"
   ]
  },
  {
   "cell_type": "code",
   "execution_count": 40,
   "metadata": {},
   "outputs": [],
   "source": [
    "cifar_train, cifar_test = tff.simulation.datasets.cifar100.load_data()"
   ]
  },
  {
   "cell_type": "code",
   "execution_count": 41,
   "metadata": {},
   "outputs": [
    {
     "data": {
      "text/plain": [
       "OrderedDict([('coarse_label', TensorSpec(shape=(), dtype=tf.int64, name=None)),\n",
       "             ('image',\n",
       "              TensorSpec(shape=(32, 32, 3), dtype=tf.uint8, name=None)),\n",
       "             ('label', TensorSpec(shape=(), dtype=tf.int64, name=None))])"
      ]
     },
     "execution_count": 41,
     "metadata": {},
     "output_type": "execute_result"
    }
   ],
   "source": [
    "# Check Data type\n",
    "cifar_train.element_type_structure\n"
   ]
  },
  {
   "cell_type": "code",
   "execution_count": 42,
   "metadata": {},
   "outputs": [
    {
     "data": {
      "text/plain": [
       "500"
      ]
     },
     "execution_count": 42,
     "metadata": {},
     "output_type": "execute_result"
    }
   ],
   "source": [
    "#Check Length\n",
    "len(cifar_train.client_ids)"
   ]
  },
  {
   "cell_type": "code",
   "execution_count": 43,
   "metadata": {},
   "outputs": [],
   "source": [
    "example_dataset = cifar_train.create_tf_dataset_for_client(cifar_train.client_ids[0])\n",
    "example_element= next(iter(example_dataset))\n"
   ]
  },
  {
   "cell_type": "code",
   "execution_count": 44,
   "metadata": {},
   "outputs": [
    {
     "data": {
      "image/png": "[encoded data removed]",
      "text/plain": [
       "<Figure size 1080x288 with 1 Axes>"
      ]
     },
     "metadata": {
      "needs_background": "light"
     },
     "output_type": "display_data"
    }
   ],
   "source": [
    "\n",
    "#Plot sample Image\n",
    "from matplotlib import pyplot as plt\n",
    "plt.figure(figsize=(15,4))\n",
    "plt.imshow(example_element['image'].numpy(), cmap='gray',aspect='equal')  \n",
    "plt.grid(False)\n",
    "_ = plt.show()"
   ]
  },
  {
   "cell_type": "code",
   "execution_count": 45,
   "metadata": {},
   "outputs": [
    {
     "data": {
      "image/png": "[encoded data removed]",
      "text/plain": [
       "<Figure size 864x504 with 6 Axes>"
      ]
     },
     "metadata": {
      "needs_background": "light"
     },
     "output_type": "display_data"
    }
   ],
   "source": [
    "# Check distribution of Data classes among the 6 Clients \n",
    "f = plt.figure(figsize=(12, 7))\n",
    "f.suptitle('Label Counts for a Sample of Clients')\n",
    "for i in range(6):\n",
    "  client_dataset = cifar_train.create_tf_dataset_for_client(\n",
    "      cifar_train.client_ids[i])\n",
    "  plot_data = collections.defaultdict(list)\n",
    "  for example in client_dataset:\n",
    "    # Append counts individually per label to make plots\n",
    "    # more colorful instead of one color per plot.\n",
    "    label = example['label'].numpy()\n",
    "    plot_data[label].append(label)\n",
    "  plt.subplot(2, 3, i+1)\n",
    "  plt.title('Client {}'.format(i))\n",
    "  for j in range(10):\n",
    "    plt.hist(\n",
    "        plot_data[j],\n",
    "        density=False,\n",
    "        bins=[0, 1, 2, 3, 4, 5, 6, 7, 8, 9, 10])"
   ]
  },
  {
   "attachments": {},
   "cell_type": "markdown",
   "metadata": {},
   "source": [
    "## Start Preprocessing the Data"
   ]
  },
  {
   "cell_type": "code",
   "execution_count": 46,
   "metadata": {},
   "outputs": [],
   "source": [
    "#reshape to use with keras model\n",
    "def reshape_cifar_element(element):\n",
    "  return (tf.cast(tf.reshape(element['image'], [-1,32,32,3]),dtype=tf.float64), tf.reshape(element['coarse_label'],[-1,1]))\n",
    "        "
   ]
  },
  {
   "cell_type": "code",
   "execution_count": 47,
   "metadata": {},
   "outputs": [],
   "source": [
    "# Build Federated preprocessing that will drive the client training\n",
    "# load from the Inputted parameters \n",
    "def preprocess_train_dataset(dataset):\n",
    "  return (dataset\n",
    "          .shuffle(buffer_size=MAX_CLIENT_DATASET_SIZE)\n",
    "          .repeat(CLIENT_EPOCHS_PER_ROUND)\n",
    "          .batch(CLIENT_BATCH_SIZE, drop_remainder=False)\n",
    "          .map(reshape_cifar_element))"
   ]
  },
  {
   "cell_type": "code",
   "execution_count": 48,
   "metadata": {},
   "outputs": [],
   "source": [
    "# Preprocess train data.\n",
    "federated_train_data= cifar_train.preprocess(preprocess_train_dataset)"
   ]
  },
  {
   "attachments": {},
   "cell_type": "markdown",
   "metadata": {},
   "source": [
    "## Keras Model Declaration"
   ]
  },
  {
   "cell_type": "code",
   "execution_count": 49,
   "metadata": {},
   "outputs": [],
   "source": [
    "def create_original_fedavg_cnn_model(cache_dir=None):\n",
    "    # data_format = 'channels_last'\n",
    "    model = Sequential()\n",
    "\n",
    "    model.add(Conv2D(32, (3, 3), input_shape=(32, 32, 3),data_format='channels_last'))\n",
    "    model.add(LeakyReLU(alpha=0.1))\n",
    "    BatchNormalization(axis=-1)\n",
    "    model.add(Conv2D(32, (3, 3)))\n",
    "    model.add(LeakyReLU(alpha=0.1))\n",
    "    model.add(MaxPooling2D(pool_size=(2, 2)))\n",
    "\n",
    "    BatchNormalization(axis=-1)\n",
    "    model.add(Conv2D(64, (3, 3)))\n",
    "    model.add(LeakyReLU(alpha=0.1))\n",
    "    BatchNormalization(axis=-1)\n",
    "    model.add(Conv2D(64, (3, 3)))\n",
    "    model.add(LeakyReLU(alpha=0.1))\n",
    "    model.add(MaxPooling2D(pool_size=(2, 2)))\n",
    "\n",
    "    model.add(Flatten())\n",
    "\n",
    "    BatchNormalization()\n",
    "    model.add(Dense(512))\n",
    "    model.add(LeakyReLU(alpha=0.1))\n",
    "    BatchNormalization()\n",
    "    model.add(Dropout(0.2))\n",
    "    model.add(Dense(100))\n",
    "\n",
    "\n",
    "    model.add(Activation('softmax'))\n",
    "    model.summary()\n",
    "    return model"
   ]
  },
  {
   "cell_type": "markdown",
   "metadata": {},
   "source": []
  },
  {
   "cell_type": "code",
   "execution_count": 50,
   "metadata": {},
   "outputs": [
    {
     "data": {
      "text/plain": [
       "(TensorSpec(shape=(None, 32, 32, 3), dtype=tf.float64, name=None),\n",
       " TensorSpec(shape=(None, 1), dtype=tf.int64, name=None))"
      ]
     },
     "execution_count": 50,
     "metadata": {},
     "output_type": "execute_result"
    }
   ],
   "source": [
    "# Specify Input Spec for configuring shape of input data to TFF wrapper function \n",
    "input_spec = federated_train_data.create_tf_dataset_for_client(\n",
    "    federated_train_data.client_ids[0]).element_spec\n",
    "input_spec"
   ]
  },
  {
   "cell_type": "code",
   "execution_count": 51,
   "metadata": {},
   "outputs": [],
   "source": [
    "# Wrap the keras Model to be used in TFF\n",
    "def tff_model_fn():\n",
    "  keras_model = create_original_fedavg_cnn_model()\n",
    "  return tff.learning.from_keras_model(\n",
    "      keras_model=keras_model,\n",
    "      input_spec=input_spec,\n",
    "      loss=tf.keras.losses.SparseCategoricalCrossentropy(),\n",
    "      metrics=[tf.keras.metrics.SparseCategoricalAccuracy()])"
   ]
  },
  {
   "cell_type": "code",
   "execution_count": 52,
   "metadata": {},
   "outputs": [
    {
     "name": "stdout",
     "output_type": "stream",
     "text": [
      "Model: \"sequential\"\n",
      "_________________________________________________________________\n",
      "Layer (type)                 Output Shape              Param #   \n",
      "=================================================================\n",
      "conv2d (Conv2D)              (None, 30, 30, 32)        896       \n",
      "_________________________________________________________________\n",
      "leaky_re_lu (LeakyReLU)      (None, 30, 30, 32)        0         \n",
      "_________________________________________________________________\n",
      "conv2d_1 (Conv2D)            (None, 28, 28, 32)        9248      \n",
      "_________________________________________________________________\n",
      "leaky_re_lu_1 (LeakyReLU)    (None, 28, 28, 32)        0         \n",
      "_________________________________________________________________\n",
      "max_pooling2d (MaxPooling2D) (None, 14, 14, 32)        0         \n",
      "_________________________________________________________________\n",
      "conv2d_2 (Conv2D)            (None, 12, 12, 64)        18496     \n",
      "_________________________________________________________________\n",
      "leaky_re_lu_2 (LeakyReLU)    (None, 12, 12, 64)        0         \n",
      "_________________________________________________________________\n",
      "conv2d_3 (Conv2D)            (None, 10, 10, 64)        36928     \n",
      "_________________________________________________________________\n",
      "leaky_re_lu_3 (LeakyReLU)    (None, 10, 10, 64)        0         \n",
      "_________________________________________________________________\n",
      "max_pooling2d_1 (MaxPooling2 (None, 5, 5, 64)          0         \n",
      "_________________________________________________________________\n",
      "flatten (Flatten)            (None, 1600)              0         \n",
      "_________________________________________________________________\n",
      "dense (Dense)                (None, 512)               819712    \n",
      "_________________________________________________________________\n",
      "leaky_re_lu_4 (LeakyReLU)    (None, 512)               0         \n",
      "_________________________________________________________________\n",
      "dropout (Dropout)            (None, 512)               0         \n",
      "_________________________________________________________________\n",
      "dense_1 (Dense)              (None, 100)               51300     \n",
      "_________________________________________________________________\n",
      "activation (Activation)      (None, 100)               0         \n",
      "=================================================================\n",
      "Total params: 936,580\n",
      "Trainable params: 936,580\n",
      "Non-trainable params: 0\n",
      "_________________________________________________________________\n",
      "Model: \"sequential\"\n",
      "_________________________________________________________________\n",
      "Layer (type)                 Output Shape              Param #   \n",
      "=================================================================\n",
      "conv2d (Conv2D)              (None, 30, 30, 32)        896       \n",
      "_________________________________________________________________\n",
      "leaky_re_lu (LeakyReLU)      (None, 30, 30, 32)        0         \n",
      "_________________________________________________________________\n",
      "conv2d_1 (Conv2D)            (None, 28, 28, 32)        9248      \n",
      "_________________________________________________________________\n",
      "leaky_re_lu_1 (LeakyReLU)    (None, 28, 28, 32)        0         \n",
      "_________________________________________________________________\n",
      "max_pooling2d (MaxPooling2D) (None, 14, 14, 32)        0         \n",
      "_________________________________________________________________\n",
      "conv2d_2 (Conv2D)            (None, 12, 12, 64)        18496     \n",
      "_________________________________________________________________\n",
      "leaky_re_lu_2 (LeakyReLU)    (None, 12, 12, 64)        0         \n",
      "_________________________________________________________________\n",
      "conv2d_3 (Conv2D)            (None, 10, 10, 64)        36928     \n",
      "_________________________________________________________________\n",
      "leaky_re_lu_3 (LeakyReLU)    (None, 10, 10, 64)        0         \n",
      "_________________________________________________________________\n",
      "max_pooling2d_1 (MaxPooling2 (None, 5, 5, 64)          0         \n",
      "_________________________________________________________________\n",
      "flatten (Flatten)            (None, 1600)              0         \n",
      "_________________________________________________________________\n",
      "dense (Dense)                (None, 512)               819712    \n",
      "_________________________________________________________________\n",
      "leaky_re_lu_4 (LeakyReLU)    (None, 512)               0         \n",
      "_________________________________________________________________\n",
      "dropout (Dropout)            (None, 512)               0         \n",
      "_________________________________________________________________\n",
      "dense_1 (Dense)              (None, 100)               51300     \n",
      "_________________________________________________________________\n",
      "activation (Activation)      (None, 100)               0         \n",
      "=================================================================\n",
      "Total params: 936,580\n",
      "Trainable params: 936,580\n",
      "Non-trainable params: 0\n",
      "_________________________________________________________________\n",
      "Model: \"sequential\"\n",
      "_________________________________________________________________\n",
      "Layer (type)                 Output Shape              Param #   \n",
      "=================================================================\n",
      "conv2d (Conv2D)              (None, 30, 30, 32)        896       \n",
      "_________________________________________________________________\n",
      "leaky_re_lu (LeakyReLU)      (None, 30, 30, 32)        0         \n",
      "_________________________________________________________________\n",
      "conv2d_1 (Conv2D)            (None, 28, 28, 32)        9248      \n",
      "_________________________________________________________________\n",
      "leaky_re_lu_1 (LeakyReLU)    (None, 28, 28, 32)        0         \n",
      "_________________________________________________________________\n",
      "max_pooling2d (MaxPooling2D) (None, 14, 14, 32)        0         \n",
      "_________________________________________________________________\n",
      "conv2d_2 (Conv2D)            (None, 12, 12, 64)        18496     \n",
      "_________________________________________________________________\n",
      "leaky_re_lu_2 (LeakyReLU)    (None, 12, 12, 64)        0         \n",
      "_________________________________________________________________\n",
      "conv2d_3 (Conv2D)            (None, 10, 10, 64)        36928     \n",
      "_________________________________________________________________\n",
      "leaky_re_lu_3 (LeakyReLU)    (None, 10, 10, 64)        0         \n",
      "_________________________________________________________________\n",
      "max_pooling2d_1 (MaxPooling2 (None, 5, 5, 64)          0         \n",
      "_________________________________________________________________\n",
      "flatten (Flatten)            (None, 1600)              0         \n",
      "_________________________________________________________________\n",
      "dense (Dense)                (None, 512)               819712    \n",
      "_________________________________________________________________\n",
      "leaky_re_lu_4 (LeakyReLU)    (None, 512)               0         \n",
      "_________________________________________________________________\n",
      "dropout (Dropout)            (None, 512)               0         \n",
      "_________________________________________________________________\n",
      "dense_1 (Dense)              (None, 100)               51300     \n",
      "_________________________________________________________________\n",
      "activation (Activation)      (None, 100)               0         \n",
      "=================================================================\n",
      "Total params: 936,580\n",
      "Trainable params: 936,580\n",
      "Non-trainable params: 0\n",
      "_________________________________________________________________\n",
      "Model: \"sequential\"\n",
      "_________________________________________________________________\n",
      "Layer (type)                 Output Shape              Param #   \n",
      "=================================================================\n",
      "conv2d (Conv2D)              (None, 30, 30, 32)        896       \n",
      "_________________________________________________________________\n",
      "leaky_re_lu (LeakyReLU)      (None, 30, 30, 32)        0         \n",
      "_________________________________________________________________\n",
      "conv2d_1 (Conv2D)            (None, 28, 28, 32)        9248      \n",
      "_________________________________________________________________\n",
      "leaky_re_lu_1 (LeakyReLU)    (None, 28, 28, 32)        0         \n",
      "_________________________________________________________________\n",
      "max_pooling2d (MaxPooling2D) (None, 14, 14, 32)        0         \n",
      "_________________________________________________________________\n",
      "conv2d_2 (Conv2D)            (None, 12, 12, 64)        18496     \n",
      "_________________________________________________________________\n",
      "leaky_re_lu_2 (LeakyReLU)    (None, 12, 12, 64)        0         \n",
      "_________________________________________________________________\n",
      "conv2d_3 (Conv2D)            (None, 10, 10, 64)        36928     \n",
      "_________________________________________________________________\n",
      "leaky_re_lu_3 (LeakyReLU)    (None, 10, 10, 64)        0         \n",
      "_________________________________________________________________\n",
      "max_pooling2d_1 (MaxPooling2 (None, 5, 5, 64)          0         \n",
      "_________________________________________________________________\n",
      "flatten (Flatten)            (None, 1600)              0         \n",
      "_________________________________________________________________\n",
      "dense (Dense)                (None, 512)               819712    \n",
      "_________________________________________________________________\n",
      "leaky_re_lu_4 (LeakyReLU)    (None, 512)               0         \n",
      "_________________________________________________________________\n",
      "dropout (Dropout)            (None, 512)               0         \n",
      "_________________________________________________________________\n",
      "dense_1 (Dense)              (None, 100)               51300     \n",
      "_________________________________________________________________\n",
      "activation (Activation)      (None, 100)               0         \n",
      "=================================================================\n",
      "Total params: 936,580\n",
      "Trainable params: 936,580\n",
      "Non-trainable params: 0\n",
      "_________________________________________________________________\n",
      "Model: \"sequential\"\n",
      "_________________________________________________________________\n",
      "Layer (type)                 Output Shape              Param #   \n",
      "=================================================================\n",
      "conv2d (Conv2D)              (None, 30, 30, 32)        896       \n",
      "_________________________________________________________________\n",
      "leaky_re_lu (LeakyReLU)      (None, 30, 30, 32)        0         \n",
      "_________________________________________________________________\n",
      "conv2d_1 (Conv2D)            (None, 28, 28, 32)        9248      \n",
      "_________________________________________________________________\n",
      "leaky_re_lu_1 (LeakyReLU)    (None, 28, 28, 32)        0         \n",
      "_________________________________________________________________\n",
      "max_pooling2d (MaxPooling2D) (None, 14, 14, 32)        0         \n",
      "_________________________________________________________________\n",
      "conv2d_2 (Conv2D)            (None, 12, 12, 64)        18496     \n",
      "_________________________________________________________________\n",
      "leaky_re_lu_2 (LeakyReLU)    (None, 12, 12, 64)        0         \n",
      "_________________________________________________________________\n",
      "conv2d_3 (Conv2D)            (None, 10, 10, 64)        36928     \n",
      "_________________________________________________________________\n",
      "leaky_re_lu_3 (LeakyReLU)    (None, 10, 10, 64)        0         \n",
      "_________________________________________________________________\n",
      "max_pooling2d_1 (MaxPooling2 (None, 5, 5, 64)          0         \n",
      "_________________________________________________________________\n",
      "flatten (Flatten)            (None, 1600)              0         \n",
      "_________________________________________________________________\n",
      "dense (Dense)                (None, 512)               819712    \n",
      "_________________________________________________________________\n",
      "leaky_re_lu_4 (LeakyReLU)    (None, 512)               0         \n",
      "_________________________________________________________________\n",
      "dropout (Dropout)            (None, 512)               0         \n",
      "_________________________________________________________________\n",
      "dense_1 (Dense)              (None, 100)               51300     \n",
      "_________________________________________________________________\n",
      "activation (Activation)      (None, 100)               0         \n",
      "=================================================================\n",
      "Total params: 936,580\n",
      "Trainable params: 936,580\n",
      "Non-trainable params: 0\n",
      "_________________________________________________________________\n"
     ]
    }
   ],
   "source": [
    "# training the model \n",
    "federated_averaging = tff.learning.build_federated_averaging_process(\n",
    "    model_fn=tff_model_fn,\n",
    "    client_optimizer_fn=lambda: tf.keras.optimizers.Adam(learning_rate=0.001),\n",
    "    server_optimizer_fn=lambda: tf.keras.optimizers.Adam(learning_rate=0.01))"
   ]
  },
  {
   "cell_type": "code",
   "execution_count": 53,
   "metadata": {},
   "outputs": [],
   "source": [
    "#Monitor Data transfer\n",
    "#High transfer rates crash the CPU/GPU leading o erraneous results and processing skips \n",
    "def format_size(size):\n",
    "  size = float(size)\n",
    "  for unit in ['bit','Kibit','Mibit','Gibit']:\n",
    "    if size < 1024.0:\n",
    "      return \"{size:3.2f}{unit}\".format(size=size, unit=unit)\n",
    "    size /= 1024.0\n",
    "  return \"{size:.2f}{unit}\".format(size=size, unit='TiB')"
   ]
  },
  {
   "cell_type": "code",
   "execution_count": 54,
   "metadata": {},
   "outputs": [],
   "source": [
    "def set_sizing_environment():\n",
    "  sizing_factory = tff.framework.sizing_executor_factory()\n",
    "  context = tff.framework.ExecutionContext(executor_fn=sizing_factory)\n",
    "  tff.framework.set_default_context(context)\n",
    "\n",
    "  return sizing_factory"
   ]
  },
  {
   "cell_type": "code",
   "execution_count": 55,
   "metadata": {},
   "outputs": [],
   "source": [
    "# Clean the log directory to avoid conflicts.\n",
    "# Set up Tensorboard\n",
    "import os \n",
    "import shutil\n",
    "import datetime\n",
    "run_time = datetime.datetime.now().strftime(\"%Y-%m-%d_%H-%M-%S\")\n",
    "hp = str\n",
    "logdir = r\"C:\\Users\\sidha\\Stevens\\AAI800 - Special Projects in AI\\Project Execution\\Tensorboard\\TF-CNN2\" + run_time + hyperparameters\n",
    "if os.path.exists(logdir):\n",
    "    shutil.rmtree(logdir)\n",
    "\n",
    "summary_writer = tf.summary.create_file_writer(logdir)\n"
   ]
  },
  {
   "cell_type": "code",
   "execution_count": 56,
   "metadata": {},
   "outputs": [],
   "source": [
    "# Build training function to iterate over Fed Data\n",
    "def train(federated_averaging_process, num_rounds, num_clients_per_round, summary_writer):\n",
    "  environment = set_sizing_environment()\n",
    "\n",
    "  # Initialize the Federated Averaging algorithm to get the initial server state.\n",
    "  state = federated_averaging_process.initialize()\n",
    "\n",
    "  with summary_writer.as_default():\n",
    "    for round_num in range(num_rounds):\n",
    "      # Sample the clients parcitipated in this round.\n",
    "      sampled_clients = np.random.choice(\n",
    "          federated_train_data.client_ids,\n",
    "          size=num_clients_per_round,\n",
    "          replace=False)\n",
    "      # Create a list of `tf.Dataset` instances from the data of sampled clients.\n",
    "      sampled_train_data = [\n",
    "          federated_train_data.create_tf_dataset_for_client(client)\n",
    "          for client in sampled_clients\n",
    "      ]\n",
    "      state, metrics = federated_averaging_process.next(state, sampled_train_data)\n",
    "\n",
    "      size_info = environment.get_size_info()\n",
    "      broadcasted_bits = size_info.broadcast_bits[-1]\n",
    "      aggregated_bits = size_info.aggregate_bits[-1]\n",
    "\n",
    "      print('round {:2d}, metrics={}, broadcasted_bits={}, aggregated_bits={}'.format(round_num, metrics, format_size(broadcasted_bits), format_size(aggregated_bits)))\n",
    "\n",
    "      # Add metrics to Tensorboard.\n",
    "      for name, value in metrics['train'].items():\n",
    "          tf.summary.scalar(name, value, step=round_num)\n",
    "\n",
    "      # Add broadcasted and aggregated data size to Tensorboard.\n",
    "      tf.summary.scalar('cumulative_broadcasted_bits', broadcasted_bits, step=round_num)\n",
    "      tf.summary.scalar('cumulative_aggregated_bits', aggregated_bits, step=round_num)\n",
    "      summary_writer.flush()\n",
    "  return state"
   ]
  },
  {
   "cell_type": "code",
   "execution_count": 57,
   "metadata": {},
   "outputs": [
    {
     "name": "stdout",
     "output_type": "stream",
     "text": [
      "round  0, metrics=OrderedDict([('broadcast', ()), ('aggregation', OrderedDict([('value_sum_process', ()), ('weight_sum_process', ())])), ('train', OrderedDict([('sparse_categorical_accuracy', 0.253), ('loss', 9.553589)]))]), broadcasted_bits=571.64Mibit, aggregated_bits=571.65Mibit\n",
      "round  1, metrics=OrderedDict([('broadcast', ()), ('aggregation', OrderedDict([('value_sum_process', ()), ('weight_sum_process', ())])), ('train', OrderedDict([('sparse_categorical_accuracy', 0.2935), ('loss', 10.988785)]))]), broadcasted_bits=1.12Gibit, aggregated_bits=1.12Gibit\n",
      "round  2, metrics=OrderedDict([('broadcast', ()), ('aggregation', OrderedDict([('value_sum_process', ()), ('weight_sum_process', ())])), ('train', OrderedDict([('sparse_categorical_accuracy', 0.262), ('loss', 11.703824)]))]), broadcasted_bits=1.67Gibit, aggregated_bits=1.67Gibit\n",
      "round  3, metrics=OrderedDict([('broadcast', ()), ('aggregation', OrderedDict([('value_sum_process', ()), ('weight_sum_process', ())])), ('train', OrderedDict([('sparse_categorical_accuracy', 0.184), ('loss', 12.968792)]))]), broadcasted_bits=2.23Gibit, aggregated_bits=2.23Gibit\n",
      "round  4, metrics=OrderedDict([('broadcast', ()), ('aggregation', OrderedDict([('value_sum_process', ()), ('weight_sum_process', ())])), ('train', OrderedDict([('sparse_categorical_accuracy', 0.294), ('loss', 11.128199)]))]), broadcasted_bits=2.79Gibit, aggregated_bits=2.79Gibit\n",
      "round  5, metrics=OrderedDict([('broadcast', ()), ('aggregation', OrderedDict([('value_sum_process', ()), ('weight_sum_process', ())])), ('train', OrderedDict([('sparse_categorical_accuracy', 0.223), ('loss', 12.262427)]))]), broadcasted_bits=3.35Gibit, aggregated_bits=3.35Gibit\n",
      "round  6, metrics=OrderedDict([('broadcast', ()), ('aggregation', OrderedDict([('value_sum_process', ()), ('weight_sum_process', ())])), ('train', OrderedDict([('sparse_categorical_accuracy', 0.269), ('loss', 11.378015)]))]), broadcasted_bits=3.91Gibit, aggregated_bits=3.91Gibit\n",
      "round  7, metrics=OrderedDict([('broadcast', ()), ('aggregation', OrderedDict([('value_sum_process', ()), ('weight_sum_process', ())])), ('train', OrderedDict([('sparse_categorical_accuracy', 0.2865), ('loss', 10.933063)]))]), broadcasted_bits=4.47Gibit, aggregated_bits=4.47Gibit\n",
      "round  8, metrics=OrderedDict([('broadcast', ()), ('aggregation', OrderedDict([('value_sum_process', ()), ('weight_sum_process', ())])), ('train', OrderedDict([('sparse_categorical_accuracy', 0.225), ('loss', 11.756877)]))]), broadcasted_bits=5.02Gibit, aggregated_bits=5.02Gibit\n",
      "round  9, metrics=OrderedDict([('broadcast', ()), ('aggregation', OrderedDict([('value_sum_process', ()), ('weight_sum_process', ())])), ('train', OrderedDict([('sparse_categorical_accuracy', 0.2675), ('loss', 11.17934)]))]), broadcasted_bits=5.58Gibit, aggregated_bits=5.58Gibit\n"
     ]
    }
   ],
   "source": [
    "# Execute Iterative training preocees and Get Final state and metrics\n",
    "final_state=train(federated_averaging_process=federated_averaging, num_rounds=NUMBER_OF_ROUNDS,\n",
    "      num_clients_per_round=NUMBER_OF_CLIENTS, summary_writer=summary_writer)"
   ]
  },
  {
   "cell_type": "code",
   "execution_count": 58,
   "metadata": {},
   "outputs": [
    {
     "name": "stdout",
     "output_type": "stream",
     "text": [
      "Model: \"sequential\"\n",
      "_________________________________________________________________\n",
      "Layer (type)                 Output Shape              Param #   \n",
      "=================================================================\n",
      "conv2d (Conv2D)              (None, 30, 30, 32)        896       \n",
      "_________________________________________________________________\n",
      "leaky_re_lu (LeakyReLU)      (None, 30, 30, 32)        0         \n",
      "_________________________________________________________________\n",
      "conv2d_1 (Conv2D)            (None, 28, 28, 32)        9248      \n",
      "_________________________________________________________________\n",
      "leaky_re_lu_1 (LeakyReLU)    (None, 28, 28, 32)        0         \n",
      "_________________________________________________________________\n",
      "max_pooling2d (MaxPooling2D) (None, 14, 14, 32)        0         \n",
      "_________________________________________________________________\n",
      "conv2d_2 (Conv2D)            (None, 12, 12, 64)        18496     \n",
      "_________________________________________________________________\n",
      "leaky_re_lu_2 (LeakyReLU)    (None, 12, 12, 64)        0         \n",
      "_________________________________________________________________\n",
      "conv2d_3 (Conv2D)            (None, 10, 10, 64)        36928     \n",
      "_________________________________________________________________\n",
      "leaky_re_lu_3 (LeakyReLU)    (None, 10, 10, 64)        0         \n",
      "_________________________________________________________________\n",
      "max_pooling2d_1 (MaxPooling2 (None, 5, 5, 64)          0         \n",
      "_________________________________________________________________\n",
      "flatten (Flatten)            (None, 1600)              0         \n",
      "_________________________________________________________________\n",
      "dense (Dense)                (None, 512)               819712    \n",
      "_________________________________________________________________\n",
      "leaky_re_lu_4 (LeakyReLU)    (None, 512)               0         \n",
      "_________________________________________________________________\n",
      "dropout (Dropout)            (None, 512)               0         \n",
      "_________________________________________________________________\n",
      "dense_1 (Dense)              (None, 100)               51300     \n",
      "_________________________________________________________________\n",
      "activation (Activation)      (None, 100)               0         \n",
      "=================================================================\n",
      "Total params: 936,580\n",
      "Trainable params: 936,580\n",
      "Non-trainable params: 0\n",
      "_________________________________________________________________\n",
      "Model: \"sequential\"\n",
      "_________________________________________________________________\n",
      "Layer (type)                 Output Shape              Param #   \n",
      "=================================================================\n",
      "conv2d (Conv2D)              (None, 30, 30, 32)        896       \n",
      "_________________________________________________________________\n",
      "leaky_re_lu (LeakyReLU)      (None, 30, 30, 32)        0         \n",
      "_________________________________________________________________\n",
      "conv2d_1 (Conv2D)            (None, 28, 28, 32)        9248      \n",
      "_________________________________________________________________\n",
      "leaky_re_lu_1 (LeakyReLU)    (None, 28, 28, 32)        0         \n",
      "_________________________________________________________________\n",
      "max_pooling2d (MaxPooling2D) (None, 14, 14, 32)        0         \n",
      "_________________________________________________________________\n",
      "conv2d_2 (Conv2D)            (None, 12, 12, 64)        18496     \n",
      "_________________________________________________________________\n",
      "leaky_re_lu_2 (LeakyReLU)    (None, 12, 12, 64)        0         \n",
      "_________________________________________________________________\n",
      "conv2d_3 (Conv2D)            (None, 10, 10, 64)        36928     \n",
      "_________________________________________________________________\n",
      "leaky_re_lu_3 (LeakyReLU)    (None, 10, 10, 64)        0         \n",
      "_________________________________________________________________\n",
      "max_pooling2d_1 (MaxPooling2 (None, 5, 5, 64)          0         \n",
      "_________________________________________________________________\n",
      "flatten (Flatten)            (None, 1600)              0         \n",
      "_________________________________________________________________\n",
      "dense (Dense)                (None, 512)               819712    \n",
      "_________________________________________________________________\n",
      "leaky_re_lu_4 (LeakyReLU)    (None, 512)               0         \n",
      "_________________________________________________________________\n",
      "dropout (Dropout)            (None, 512)               0         \n",
      "_________________________________________________________________\n",
      "dense_1 (Dense)              (None, 100)               51300     \n",
      "_________________________________________________________________\n",
      "activation (Activation)      (None, 100)               0         \n",
      "=================================================================\n",
      "Total params: 936,580\n",
      "Trainable params: 936,580\n",
      "Non-trainable params: 0\n",
      "_________________________________________________________________\n",
      "(<\n",
      "  server_model_weights=<\n",
      "    trainable=<\n",
      "      float32[3,3,3,32],\n",
      "      float32[32],\n",
      "      float32[3,3,32,32],\n",
      "      float32[32],\n",
      "      float32[3,3,32,64],\n",
      "      float32[64],\n",
      "      float32[3,3,64,64],\n",
      "      float32[64],\n",
      "      float32[1600,512],\n",
      "      float32[512],\n",
      "      float32[512,100],\n",
      "      float32[100]\n",
      "    >,\n",
      "    non_trainable=<>\n",
      "  >@SERVER,\n",
      "  federated_dataset={<\n",
      "    float64[?,32,32,3],\n",
      "    int64[?,1]\n",
      "  >*}@CLIENTS\n",
      "> -> <\n",
      "  sparse_categorical_accuracy=float32,\n",
      "  loss=float32\n",
      ">@SERVER)\n"
     ]
    }
   ],
   "source": [
    "#Perform Model Evaluation\n",
    "evaluation = tff.learning.build_federated_evaluation(tff_model_fn)\n",
    "print(evaluation.type_signature.formatted_representation())"
   ]
  },
  {
   "cell_type": "code",
   "execution_count": 59,
   "metadata": {},
   "outputs": [],
   "source": [
    "#Pull final Model weights from final state \n",
    "model_weights = tff.learning.ModelWeights(trainable=final_state.model,non_trainable=final_state.model)"
   ]
  },
  {
   "cell_type": "code",
   "execution_count": 60,
   "metadata": {},
   "outputs": [],
   "source": [
    "# Not necessary \n",
    "# Use below code to perform test data evaluation\n",
    "\n",
    "# federated_test_data = cifar_test.preprocess(preprocess_train_dataset)\n",
    "# # federated=tf.map_fn(reshape_cifar_element, example_dataset)\n",
    "# for round_num in range(10):\n",
    "#       # Sample the clients parcitipated in this round.\n",
    "#       sampled_clients = np.random.choice(\n",
    "#           federated_test_data.client_ids,\n",
    "#           size=TEST_BATCH_SIZE,\n",
    "#           replace=False)\n",
    "#       # Create a list of `tf.Dataset` instances from the data of sampled clients.\n",
    "#       sampled_train_data = [\n",
    "#           federated_test_data.create_tf_dataset_for_client(client)\n",
    "#           for client in sampled_clients\n",
    "#       ]\n",
    "#       test_metrics = evaluation(final_state.model, sampled_train_data)\n",
    "#       test_metrics"
   ]
  },
  {
   "cell_type": "code",
   "execution_count": 61,
   "metadata": {},
   "outputs": [],
   "source": [
    "# test_metrics"
   ]
  }
 ],
 "metadata": {
  "kernelspec": {
   "display_name": "Python 3.8.10 64-bit",
   "language": "python",
   "name": "python3"
  },
  "language_info": {
   "codemirror_mode": {
    "name": "ipython",
    "version": 3
   },
   "file_extension": ".py",
   "mimetype": "text/x-python",
   "name": "python",
   "nbconvert_exporter": "python",
   "pygments_lexer": "ipython3",
   "version": "3.8.10"
  },
  "orig_nbformat": 4,
  "vscode": {
   "interpreter": {
    "hash": "ef392b7373726638f25c5b5a9ae7a2125364017db5464905a5bcdac062fc1c56"
   }
  }
 },
 "nbformat": 4,
 "nbformat_minor": 2
}

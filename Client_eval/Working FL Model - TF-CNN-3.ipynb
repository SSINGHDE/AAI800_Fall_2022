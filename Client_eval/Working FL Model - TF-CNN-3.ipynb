{
 "cells": [
  {
   "cell_type": "markdown",
   "metadata": {},
   "source": [
    "### Author - Sidhanta Narayan Singhdeo\n",
    "\n",
    "### CWID  - 10465272\n",
    "### Course - AAI 800 (Special Problems in AI)\n",
    "### Project Advisor - Prof. Hong Man"
   ]
  },
  {
   "attachments": {},
   "cell_type": "markdown",
   "metadata": {},
   "source": [
    "### Local Evaluation Build\n",
    "\n",
    "* The FL Architecture implemented below is taregted to perform client metric Evaluation.\n",
    "* The TFF framework will require defining custom variable, metrics and iterative functions\n",
    "* The client models will be aggregated and we will see the performance after th global broadcast on the same\n",
    "* To run evaluation on local model, run the below for only 1 client"
   ]
  },
  {
   "cell_type": "code",
   "execution_count": 83,
   "metadata": {},
   "outputs": [],
   "source": [
    "#Patch asyncio to allow nested event loops\n",
    "import nest_asyncio\n",
    "nest_asyncio.apply()"
   ]
  },
  {
   "cell_type": "code",
   "execution_count": 84,
   "metadata": {},
   "outputs": [],
   "source": [
    "#Load required Libraries\n",
    "import numpy as np\n",
    "from matplotlib import pyplot as plt\n",
    "import tensorflow as tf\n",
    "import tensorflow_federated as tff\n",
    "import functools\n",
    "import collections\n",
    "import os"
   ]
  },
  {
   "cell_type": "code",
   "execution_count": 85,
   "metadata": {},
   "outputs": [],
   "source": [
    "# Load Keras models \n",
    "from tensorflow.keras.layers import Conv2D, MaxPooling2D, ZeroPadding2D, GlobalAveragePooling2D, LeakyReLU\n",
    "from tensorflow.keras.layers import BatchNormalization\n",
    "from tensorflow.keras.optimizers import Adam\n",
    "from tensorflow.keras.layers import Dense, Dropout, Activation, Flatten\n",
    "from tensorflow.keras.models import Sequential"
   ]
  },
  {
   "cell_type": "code",
   "execution_count": 86,
   "metadata": {},
   "outputs": [],
   "source": [
    "# Deactivates GPU execution, to tun on GPU set to [0,1,2..] depending on number of GPUs\n",
    "# Switched to CPU as GPU was giving errors due to limited memory\n",
    "os.environ['CUDA_VISIBLE_DEVICES'] = '-1'"
   ]
  },
  {
   "cell_type": "code",
   "execution_count": 87,
   "metadata": {},
   "outputs": [
    {
     "name": "stdout",
     "output_type": "stream",
     "text": [
      "Cannot detect physical GPU device in TF\n"
     ]
    }
   ],
   "source": [
    "\n",
    "# check GPUis switched off\n",
    "gpu_devices = tf.config.list_physical_devices('GPU')\n",
    "if not gpu_devices:\n",
    "  print('Cannot detect physical GPU device in TF')\n",
    "\n",
    "# If using GPU , use the below to restrict memory usage \n",
    "# This will work fine , but will slow the computation as all memory is not used.\n",
    "\n",
    "# tf.config.set_logical_device_configuration(\n",
    "#     gpu_devices[0], \n",
    "#     [tf.config.LogicalDeviceConfiguration(memory_limit=5120),\n",
    "#      tf.config.LogicalDeviceConfiguration(memory_limit=5120)])\n",
    "# tf.config.list_logical_devices()\n"
   ]
  },
  {
   "cell_type": "code",
   "execution_count": 88,
   "metadata": {},
   "outputs": [
    {
     "data": {
      "text/plain": [
       "b'Hello, World!'"
      ]
     },
     "execution_count": 88,
     "metadata": {},
     "output_type": "execute_result"
    }
   ],
   "source": [
    "# Check TFF computation is running correctly\n",
    "@tff.federated_computation\n",
    "def hello_world():\n",
    "  return 'Hello, World!'\n",
    "\n",
    "hello_world()\n"
   ]
  },
  {
   "attachments": {},
   "cell_type": "markdown",
   "metadata": {},
   "source": [
    "# Input Section\n",
    "Select values for parameters "
   ]
  },
  {
   "cell_type": "code",
   "execution_count": 89,
   "metadata": {},
   "outputs": [],
   "source": [
    "default_number_of_clients = 2\n",
    "NUMBER_OF_CLIENTS = int(input(\"Enter Number of Clients: \") or default_number_of_clients)\n",
    "\n",
    "default_number_of_rounds = 10\n",
    "NUMBER_OF_ROUNDS = int(input(\"Enter Number of Rounds: \") or default_number_of_rounds )\n",
    "\n",
    "default_client_dataset_size = 500\n",
    "MAX_CLIENT_DATASET_SIZE = int(input(\"Enter Max Client Datset Size: \") or default_client_dataset_size)\n",
    "\n",
    "default_client_epochs_per_round = 1\n",
    "CLIENT_EPOCHS_PER_ROUND = int(input(\"Enter Client Epochs pe round: \") or default_client_epochs_per_round)\n",
    "\n",
    "default_client_batch_size = 20\n",
    "CLIENT_BATCH_SIZE = int(input(\"Enter Client Batch Size: \") or default_client_batch_size)\n",
    "\n",
    "default_client_test_batch_size = 100\n",
    "TEST_BATCH_SIZE = int(input(\"Enter Test Batch Size: \") or default_client_test_batch_size)\n",
    "\n"
   ]
  },
  {
   "cell_type": "code",
   "execution_count": 90,
   "metadata": {},
   "outputs": [
    {
     "name": "stdout",
     "output_type": "stream",
     "text": [
      "Hyperparameters: /2/10/500/1/20\n"
     ]
    }
   ],
   "source": [
    "hyperparameters = '/'+str(NUMBER_OF_CLIENTS)+'/'+str(NUMBER_OF_ROUNDS)+'/'+str(MAX_CLIENT_DATASET_SIZE)+'/'+str(CLIENT_EPOCHS_PER_ROUND)+'/'+str(CLIENT_BATCH_SIZE)\n",
    "print('Hyperparameters:', hyperparameters) "
   ]
  },
  {
   "attachments": {},
   "cell_type": "markdown",
   "metadata": {},
   "source": [
    "# Load CIFAR 100 Data \n",
    "The simulation Datasets have predefined clients which are subsets of the whole dataset\n",
    "No need to create seperate clients data"
   ]
  },
  {
   "cell_type": "code",
   "execution_count": 91,
   "metadata": {},
   "outputs": [],
   "source": [
    "cifar_train, cifar_test = tff.simulation.datasets.cifar100.load_data(cache_dir=None)"
   ]
  },
  {
   "cell_type": "code",
   "execution_count": 92,
   "metadata": {},
   "outputs": [
    {
     "data": {
      "text/plain": [
       "OrderedDict([('coarse_label', TensorSpec(shape=(), dtype=tf.int64, name=None)),\n",
       "             ('image',\n",
       "              TensorSpec(shape=(32, 32, 3), dtype=tf.uint8, name=None)),\n",
       "             ('label', TensorSpec(shape=(), dtype=tf.int64, name=None))])"
      ]
     },
     "execution_count": 92,
     "metadata": {},
     "output_type": "execute_result"
    }
   ],
   "source": [
    "# Check Data type\n",
    "cifar_train.element_type_structure"
   ]
  },
  {
   "cell_type": "code",
   "execution_count": 93,
   "metadata": {},
   "outputs": [
    {
     "data": {
      "text/plain": [
       "75"
      ]
     },
     "execution_count": 93,
     "metadata": {},
     "output_type": "execute_result"
    }
   ],
   "source": [
    "# Check data from a sample\n",
    "example_dataset = cifar_train.create_tf_dataset_for_client(cifar_train.client_ids[0])\n",
    "example_element= next(iter(example_dataset))\n",
    "example_element['label'].numpy()"
   ]
  },
  {
   "cell_type": "code",
   "execution_count": 94,
   "metadata": {},
   "outputs": [
    {
     "data": {
      "text/plain": [
       "<tf.Tensor: shape=(32, 32, 3), dtype=uint8, numpy=\n",
       "array([[[ 89,  71,  73],\n",
       "        [120,  98, 106],\n",
       "        [137, 113, 116],\n",
       "        ...,\n",
       "        [133, 105, 102],\n",
       "        [131, 104,  98],\n",
       "        [142, 121, 107]],\n",
       "\n",
       "       [[ 94,  76,  75],\n",
       "        [123, 101, 105],\n",
       "        [169, 144, 145],\n",
       "        ...,\n",
       "        [152, 123, 120],\n",
       "        [133, 107, 101],\n",
       "        [168, 146, 137]],\n",
       "\n",
       "       [[133, 113, 110],\n",
       "        [151, 128, 130],\n",
       "        [147, 121, 120],\n",
       "        ...,\n",
       "        [167, 139, 133],\n",
       "        [164, 138, 130],\n",
       "        [197, 174, 168]],\n",
       "\n",
       "       ...,\n",
       "\n",
       "       [[ 87,  69,  74],\n",
       "        [102,  82,  85],\n",
       "        [ 97,  73,  75],\n",
       "        ...,\n",
       "        [175, 158, 152],\n",
       "        [143, 124, 121],\n",
       "        [158, 134, 130]],\n",
       "\n",
       "       [[ 87,  68,  69],\n",
       "        [100,  79,  79],\n",
       "        [110,  86,  84],\n",
       "        ...,\n",
       "        [148, 131, 123],\n",
       "        [160, 143, 143],\n",
       "        [172, 155, 157]],\n",
       "\n",
       "       [[ 93,  74,  71],\n",
       "        [157, 136, 131],\n",
       "        [170, 145, 139],\n",
       "        ...,\n",
       "        [164, 147, 136],\n",
       "        [164, 149, 151],\n",
       "        [189, 178, 185]]], dtype=uint8)>"
      ]
     },
     "execution_count": 94,
     "metadata": {},
     "output_type": "execute_result"
    }
   ],
   "source": [
    "example_element['image']"
   ]
  },
  {
   "cell_type": "code",
   "execution_count": 95,
   "metadata": {},
   "outputs": [
    {
     "data": {
      "image/png": "[encoded data removed]",
      "text/plain": [
       "<Figure size 864x504 with 6 Axes>"
      ]
     },
     "metadata": {
      "needs_background": "light"
     },
     "output_type": "display_data"
    }
   ],
   "source": [
    "# Check distribution of Data among the 6 Clients \n",
    "f = plt.figure(figsize=(12, 7))\n",
    "f.suptitle('Label Counts for a Sample of Clients')\n",
    "for i in range(6):\n",
    "  client_dataset = cifar_train.create_tf_dataset_for_client(\n",
    "      cifar_train.client_ids[i])\n",
    "  plot_data = collections.defaultdict(list)\n",
    "  for example in client_dataset:\n",
    "    # Append counts individually per label to make plots\n",
    "    # more colorful instead of one color per plot.\n",
    "    label = example['label'].numpy()\n",
    "    plot_data[label].append(label)\n",
    "  plt.subplot(2, 3, i+1)\n",
    "  plt.title('Client {}'.format(i))\n",
    "  for j in range(10):\n",
    "    plt.hist(\n",
    "        plot_data[j],\n",
    "        density=False,\n",
    "        bins=[0,1,2,3,4,5,6,7,8,9,10])\n"
   ]
  },
  {
   "attachments": {},
   "cell_type": "markdown",
   "metadata": {},
   "source": [
    "### Start Preprocessing the Data"
   ]
  },
  {
   "cell_type": "code",
   "execution_count": 96,
   "metadata": {},
   "outputs": [],
   "source": [
    "#reshape to use with keras model\n",
    "def reshape_cifar_element(element):\n",
    " \"\"\"Flatten a batch `pixels` and return the features as an `OrderedDict`.\"\"\"\n",
    " x=tf.reshape(element['image'], [-1, 3072])\n",
    " x=tf.cast(x,dtype=tf.float32)\n",
    " x /= 255\n",
    " y=tf.reshape(element['coarse_label'], [-1, 1])\n",
    " return collections.OrderedDict( \n",
    "    x=(tf.cast(tf.reshape(element['image'], [-1, 3072]),dtype=tf.float32))/255,\n",
    "    y=tf.reshape(element['label'], [-1, 1]))\n",
    "        \n"
   ]
  },
  {
   "cell_type": "code",
   "execution_count": 97,
   "metadata": {},
   "outputs": [],
   "source": [
    "# Build Federated preprocessing that will drive the client training\n",
    "# load from the Inputted parameters \n",
    "def preprocess_dataset(dataset):\n",
    "  return (dataset\n",
    "          .shuffle(buffer_size=MAX_CLIENT_DATASET_SIZE)\n",
    "          .repeat(CLIENT_EPOCHS_PER_ROUND)\n",
    "          .batch(CLIENT_BATCH_SIZE, drop_remainder=False)\n",
    "          .map(reshape_cifar_element)\n",
    "          .prefetch(10))"
   ]
  },
  {
   "cell_type": "code",
   "execution_count": 98,
   "metadata": {},
   "outputs": [
    {
     "data": {
      "text/plain": [
       "OrderedDict([('x',\n",
       "              array([[0.80784315, 0.9607843 , 0.9764706 , ..., 0.28235295, 0.29411766,\n",
       "                      0.20784314],\n",
       "                     [0.58431375, 0.7882353 , 0.98039216, ..., 0.5568628 , 0.37254903,\n",
       "                      0.24313726],\n",
       "                     [0.27450982, 0.34509805, 0.08235294, ..., 0.44313726, 0.5019608 ,\n",
       "                      0.19607843],\n",
       "                     ...,\n",
       "                     [0.2509804 , 0.2509804 , 0.2509804 , ..., 0.3254902 , 0.3254902 ,\n",
       "                      0.3254902 ],\n",
       "                     [0.7176471 , 0.7764706 , 0.8666667 , ..., 0.46666667, 0.47058824,\n",
       "                      0.5058824 ],\n",
       "                     [0.49411765, 0.54509807, 0.5529412 , ..., 0.59607846, 0.5058824 ,\n",
       "                      0.4862745 ]], dtype=float32)),\n",
       "             ('y',\n",
       "              array([[71],\n",
       "                     [49],\n",
       "                     [93],\n",
       "                     [71],\n",
       "                     [33],\n",
       "                     [29],\n",
       "                     [71],\n",
       "                     [63],\n",
       "                     [34],\n",
       "                     [49],\n",
       "                     [93],\n",
       "                     [60],\n",
       "                     [33],\n",
       "                     [23],\n",
       "                     [99],\n",
       "                     [93],\n",
       "                     [23],\n",
       "                     [99],\n",
       "                     [71],\n",
       "                     [44]], dtype=int64))])"
      ]
     },
     "execution_count": 98,
     "metadata": {},
     "output_type": "execute_result"
    }
   ],
   "source": [
    "# checks on examples data \n",
    "preprocessed_example_dataset = preprocess_dataset(example_dataset)\n",
    "\n",
    "sample_batch = tf.nest.map_structure(lambda x: x.numpy(),\n",
    "                                     next(iter(preprocessed_example_dataset)))\n",
    "\n",
    "sample_batch\n"
   ]
  },
  {
   "cell_type": "code",
   "execution_count": 99,
   "metadata": {},
   "outputs": [],
   "source": [
    "#Function to iterate over clients and preprocess.\n",
    "def make_federated_data(client_data, client_ids):\n",
    "  return [\n",
    "      preprocess_dataset(client_data.create_tf_dataset_for_client(x))\n",
    "      for x in client_ids\n",
    "  ]"
   ]
  },
  {
   "cell_type": "code",
   "execution_count": 100,
   "metadata": {},
   "outputs": [
    {
     "name": "stdout",
     "output_type": "stream",
     "text": [
      "Number of client datasets: 2\n",
      "First dataset: <PrefetchDataset shapes: OrderedDict([(x, (None, 3072)), (y, (None, 1))]), types: OrderedDict([(x, tf.float32), (y, tf.int64)])>\n"
     ]
    }
   ],
   "source": [
    "# Build Federated data as per the input parameters \n",
    "sample_clients = cifar_train.client_ids[0:NUMBER_OF_CLIENTS]\n",
    "\n",
    "federated_train_data = make_federated_data(cifar_train, sample_clients)\n",
    "\n",
    "print(f'Number of client datasets: {len(federated_train_data)}')\n",
    "print(f'First dataset: {federated_train_data[0]}')"
   ]
  },
  {
   "attachments": {},
   "cell_type": "markdown",
   "metadata": {},
   "source": [
    "### Keras Model Declaration"
   ]
  },
  {
   "cell_type": "code",
   "execution_count": 101,
   "metadata": {},
   "outputs": [],
   "source": [
    "model = Sequential()\n",
    "\n",
    "model.add(Conv2D(32, (3, 3), input_shape=(32, 32, 3)))\n",
    "model.add(LeakyReLU(alpha=0.1))\n",
    "BatchNormalization(axis=-1)\n",
    "model.add(Conv2D(32, (3, 3)))\n",
    "model.add(LeakyReLU(alpha=0.1))\n",
    "model.add(MaxPooling2D(pool_size=(2, 2)))\n",
    "\n",
    "BatchNormalization(axis=-1)\n",
    "model.add(Conv2D(64, (3, 3)))\n",
    "model.add(LeakyReLU(alpha=0.1))\n",
    "BatchNormalization(axis=-1)\n",
    "model.add(Conv2D(64, (3, 3)))\n",
    "model.add(LeakyReLU(alpha=0.1))\n",
    "model.add(MaxPooling2D(pool_size=(2, 2)))\n",
    "\n",
    "model.add(Flatten())\n",
    "\n",
    "BatchNormalization()\n",
    "model.add(Dense(512))\n",
    "model.add(LeakyReLU(alpha=0.1))\n",
    "BatchNormalization()\n",
    "model.add(Dropout(0.2))\n",
    "model.add(Dense(100))\n",
    "\n",
    "\n",
    "model.add(Activation('softmax'))\n"
   ]
  },
  {
   "cell_type": "code",
   "execution_count": 102,
   "metadata": {},
   "outputs": [],
   "source": [
    "# Model=create_original_fedavg_cnn_model()\n",
    "Model=model"
   ]
  },
  {
   "cell_type": "code",
   "execution_count": 103,
   "metadata": {},
   "outputs": [
    {
     "name": "stdout",
     "output_type": "stream",
     "text": [
      "Model: \"sequential_2\"\n",
      "_________________________________________________________________\n",
      "Layer (type)                 Output Shape              Param #   \n",
      "=================================================================\n",
      "conv2d_8 (Conv2D)            (None, 30, 30, 32)        896       \n",
      "_________________________________________________________________\n",
      "leaky_re_lu_10 (LeakyReLU)   (None, 30, 30, 32)        0         \n",
      "_________________________________________________________________\n",
      "conv2d_9 (Conv2D)            (None, 28, 28, 32)        9248      \n",
      "_________________________________________________________________\n",
      "leaky_re_lu_11 (LeakyReLU)   (None, 28, 28, 32)        0         \n",
      "_________________________________________________________________\n",
      "max_pooling2d_4 (MaxPooling2 (None, 14, 14, 32)        0         \n",
      "_________________________________________________________________\n",
      "conv2d_10 (Conv2D)           (None, 12, 12, 64)        18496     \n",
      "_________________________________________________________________\n",
      "leaky_re_lu_12 (LeakyReLU)   (None, 12, 12, 64)        0         \n",
      "_________________________________________________________________\n",
      "conv2d_11 (Conv2D)           (None, 10, 10, 64)        36928     \n",
      "_________________________________________________________________\n",
      "leaky_re_lu_13 (LeakyReLU)   (None, 10, 10, 64)        0         \n",
      "_________________________________________________________________\n",
      "max_pooling2d_5 (MaxPooling2 (None, 5, 5, 64)          0         \n",
      "_________________________________________________________________\n",
      "flatten_2 (Flatten)          (None, 1600)              0         \n",
      "_________________________________________________________________\n",
      "dense_4 (Dense)              (None, 512)               819712    \n",
      "_________________________________________________________________\n",
      "leaky_re_lu_14 (LeakyReLU)   (None, 512)               0         \n",
      "_________________________________________________________________\n",
      "dropout_2 (Dropout)          (None, 512)               0         \n",
      "_________________________________________________________________\n",
      "dense_5 (Dense)              (None, 100)               51300     \n",
      "_________________________________________________________________\n",
      "activation_2 (Activation)    (None, 100)               0         \n",
      "=================================================================\n",
      "Total params: 936,580\n",
      "Trainable params: 936,580\n",
      "Non-trainable params: 0\n",
      "_________________________________________________________________\n"
     ]
    }
   ],
   "source": [
    "Model.summary()\n"
   ]
  },
  {
   "cell_type": "code",
   "execution_count": 104,
   "metadata": {},
   "outputs": [],
   "source": [
    "# Wrap the keras Model to be used in TFF\n",
    "def model_fn():\n",
    "  # We _must_ create a new model here, and _not_ capture it from an external\n",
    "  # scope. TFF will call this within different graph contexts.\n",
    "  return tff.learning.from_keras_model(\n",
    "      Model,\n",
    "      input_spec= preprocessed_example_dataset.element_spec,\n",
    "      loss=tf.keras.losses.SparseCategoricalCrossentropy(),\n",
    "      metrics=[tf.keras.metrics.SparseCategoricalAccuracy()]) "
   ]
  },
  {
   "attachments": {},
   "cell_type": "markdown",
   "metadata": {},
   "source": [
    "### Custom Variable and Metric Configuration"
   ]
  },
  {
   "cell_type": "code",
   "execution_count": 105,
   "metadata": {},
   "outputs": [],
   "source": [
    "# Declare custom variables and Model metrics \n",
    "# Trainable Variable : Weights and biases of CNN\n",
    "# Model Metrics : Loss, Accuracy and number of examples to derive weighted average\n",
    "cifar100Variables = collections.namedtuple('cifar100Variables','weights bias num_examples loss_sum accuracy_sum')"
   ]
  },
  {
   "cell_type": "code",
   "execution_count": 106,
   "metadata": {},
   "outputs": [],
   "source": [
    "# function defines the variables and metrics \n",
    "def create_cifar100_variables():\n",
    "    return cifar100Variables(\n",
    "      weights=tf.Variable(\n",
    "          lambda: tf.zeros(dtype=tf.float32, shape=(3072,100)),\n",
    "          name='weights',\n",
    "          trainable=True),\n",
    "      bias=tf.Variable(\n",
    "          lambda: tf.zeros(dtype=tf.float32, shape=(100)),\n",
    "          name='bias',\n",
    "          trainable=True),\n",
    "      num_examples=tf.Variable(0.0, name='num_examples', trainable=False),\n",
    "      loss_sum=tf.Variable(0.0, name='loss_sum', trainable=False),\n",
    "      accuracy_sum=tf.Variable(0.0, name='accuracy_sum', trainable=False)\n",
    "    )"
   ]
  },
  {
   "cell_type": "code",
   "execution_count": 107,
   "metadata": {},
   "outputs": [],
   "source": [
    "# Function to perform operation on Batch of Data\n",
    "# Build Forward pass\n",
    "def batch_model(variables,x):\n",
    "    # since the last step in the keras model is Activation, we aply the same to the weights and biases\n",
    "    return tf.nn.softmax(tf.matmul(x, variables.weights) + variables.bias)\n",
    "  \n",
    "# Define how forward pass will process metrics     \n",
    "def cifar100_forward_pass(variables, batch):\n",
    "  y = batch_model(variables, batch['x'])\n",
    "  predictions = tf.cast(tf.argmax(y, 1), tf.int64)\n",
    "\n",
    "  flat_labels = tf.reshape(batch['y'], [-1])\n",
    "  loss = -tf.reduce_mean(\n",
    "      tf.reduce_sum(tf.one_hot(flat_labels, 100) * tf.math.log(y), axis=[1]))\n",
    "  accuracy = tf.reduce_mean(\n",
    "      tf.cast(tf.equal(predictions, flat_labels), tf.float32))\n",
    "\n",
    "  num_examples = tf.cast(tf.size(batch['y']), tf.float32)\n",
    "\n",
    "  variables.num_examples.assign_add(num_examples)\n",
    "  variables.loss_sum.assign_add(loss * num_examples)\n",
    "  variables.accuracy_sum.assign_add(accuracy * num_examples)\n",
    "\n",
    "  return loss, predictions"
   ]
  },
  {
   "cell_type": "code",
   "execution_count": 108,
   "metadata": {},
   "outputs": [],
   "source": [
    "# Return metrics from each model\n",
    "def get_local_unfinalized_metrics(variables):\n",
    "  return collections.OrderedDict(\n",
    "      num_examples=[variables.num_examples],\n",
    "      loss=[variables.loss_sum, variables.num_examples],\n",
    "      accuracy=[variables.accuracy_sum, variables.num_examples])"
   ]
  },
  {
   "cell_type": "code",
   "execution_count": 109,
   "metadata": {},
   "outputs": [],
   "source": [
    "# Finalize metrics after training on all Clients \n",
    "def get_metric_finalizers():\n",
    "  return collections.OrderedDict(\n",
    "      num_examples=tf.function(func=lambda x: x[0]),\n",
    "      loss=tf.function(func=lambda x: x[0] / x[1]),\n",
    "      accuracy=tf.function(func=lambda x: x[0] / x[1]))"
   ]
  },
  {
   "cell_type": "code",
   "execution_count": 110,
   "metadata": {},
   "outputs": [],
   "source": [
    "# Return Weighted Values\n",
    "def get_local_cifar_metrics(variables):\n",
    "  return collections.OrderedDict(\n",
    "      num_examples=variables.num_examples,\n",
    "      loss=variables.loss_sum / variables.num_examples,\n",
    "      accuracy=variables.accuracy_sum / variables.num_examples)"
   ]
  },
  {
   "cell_type": "code",
   "execution_count": 111,
   "metadata": {},
   "outputs": [],
   "source": [
    "# Aggregate Metrics across all clients \n",
    "@tff.federated_computation\n",
    "def aggregate_cifar_metrics_across_clients(metrics):\n",
    "  return collections.OrderedDict(\n",
    "      num_examples=tff.federated_sum(metrics.num_examples),\n",
    "      loss=tff.federated_mean(metrics.loss, metrics.num_examples),\n",
    "      accuracy=tff.federated_mean(metrics.accuracy, metrics.num_examples))"
   ]
  },
  {
   "attachments": {},
   "cell_type": "markdown",
   "metadata": {},
   "source": [
    "### Customized Class declaration for TFF"
   ]
  },
  {
   "cell_type": "code",
   "execution_count": 112,
   "metadata": {},
   "outputs": [],
   "source": [
    "from typing import Callable, List, OrderedDict\n",
    "\n",
    "class cifar100Model(tff.learning.Model):\n",
    "\n",
    "  def __init__(self):\n",
    "    self._variables = create_cifar100_variables()\n",
    "\n",
    "  @property\n",
    "  def trainable_variables(self):\n",
    "    return [self._variables.weights, self._variables.bias]\n",
    "\n",
    "  @property\n",
    "  def non_trainable_variables(self):\n",
    "    return []\n",
    "\n",
    "  @property\n",
    "  def local_variables(self):\n",
    "    return [\n",
    "        self._variables.num_examples, self._variables.loss_sum,\n",
    "        self._variables.accuracy_sum\n",
    "    ]\n",
    "\n",
    "  @property\n",
    "  def input_spec(self):\n",
    "    return collections.OrderedDict(\n",
    "        x=tf.TensorSpec([None, 3072], tf.float32),\n",
    "        y=tf.TensorSpec([None, 1], tf.int64))\n",
    "\n",
    "  @tf.function\n",
    "  def predict_on_batch(self, x, training=True):\n",
    "    del training\n",
    "    return batch_model(self._variables, x)\n",
    "    \n",
    "  @tf.function\n",
    "  def forward_pass(self, batch, training=True):\n",
    "    del training\n",
    "    loss, predictions = cifar100_forward_pass(self._variables, batch)\n",
    "    num_examples = tf.shape(batch['x'])[0]\n",
    "    return tff.learning.BatchOutput(\n",
    "        loss=loss, predictions=predictions, num_examples=num_examples)\n",
    "        \n",
    "  @tf.function\n",
    "  def report_local_outputs(self):\n",
    "    return get_local_cifar_metrics(self._variables)\n",
    "\n",
    "  @property\n",
    "  def federated_output_computation(self):\n",
    "    return aggregate_cifar_metrics_across_clients\n",
    "\n",
    "\n",
    "  @tf.function\n",
    "  def report_local_unfinalized_metrics(\n",
    "      self) -> OrderedDict[str, List[tf.Tensor]]:\n",
    "    \"\"\"Creates an `OrderedDict` of metric names to unfinalized values.\"\"\"\n",
    "    return get_local_unfinalized_metrics(self._variables)\n",
    "\n",
    "  def metric_finalizers(\n",
    "      self) -> OrderedDict[str, Callable[[List[tf.Tensor]], tf.Tensor]]:\n",
    "    \"\"\"Creates an `OrderedDict` of metric names to finalizers.\"\"\"\n",
    "    return get_metric_finalizers()\n",
    "\n",
    "  @tf.function\n",
    "  def reset_metrics(self):\n",
    "    \"\"\"Resets metrics variables to initial value.\"\"\"\n",
    "    for var in self.local_variables:\n",
    "      var.assign(tf.zeros_like(var))"
   ]
  },
  {
   "cell_type": "code",
   "execution_count": 113,
   "metadata": {},
   "outputs": [],
   "source": [
    "# training the model \n",
    "# no need for optimization on server as we are analyzing client learning\n",
    "federated_averaging = tff.learning.build_federated_averaging_process(\n",
    "    model_fn=cifar100Model,\n",
    "    client_optimizer_fn= lambda: tf.keras.optimizers.Adam(learning_rate=0.001)\n",
    "    # server_optimizer_fn=lambda: tf.keras.optimizers.SGD(learning_rate=5.0)\n",
    "    # use_experimental_simulation_loop=True\n",
    "    )"
   ]
  },
  {
   "cell_type": "code",
   "execution_count": 114,
   "metadata": {},
   "outputs": [],
   "source": [
    "# Begin Tensorboard Initialization\n",
    "import shutil\n",
    "import datetime\n",
    "run_time = datetime.datetime.now().strftime(\"%Y-%m-%d_%H-%M-%S\")\n",
    "hp = str\n",
    "logdir = r\"C:\\Users\\sidha\\Stevens\\AAI800 - Special Projects in AI\\Project Execution\\Tensorboard\\TF-CNN3\" + run_time + hyperparameters\n",
    "if os.path.exists(logdir):\n",
    "    shutil.rmtree(logdir)\n",
    "\n",
    "summary_writer = tf.summary.create_file_writer(logdir)"
   ]
  },
  {
   "attachments": {},
   "cell_type": "markdown",
   "metadata": {},
   "source": [
    "### Start Iterative Process"
   ]
  },
  {
   "cell_type": "code",
   "execution_count": 115,
   "metadata": {},
   "outputs": [],
   "source": [
    "state = federated_averaging.initialize()"
   ]
  },
  {
   "cell_type": "code",
   "execution_count": 116,
   "metadata": {},
   "outputs": [
    {
     "name": "stdout",
     "output_type": "stream",
     "text": [
      "round  0, metrics=OrderedDict([('broadcast', ()), ('aggregation', OrderedDict([('value_sum_process', ()), ('weight_sum_process', ())])), ('train', OrderedDict([('num_examples', 200.0), ('loss', 3.939502), ('accuracy', 0.04)]))])\n",
      "round  1, metrics=OrderedDict([('broadcast', ()), ('aggregation', OrderedDict([('value_sum_process', ()), ('weight_sum_process', ())])), ('train', OrderedDict([('num_examples', 200.0), ('loss', 3.6244953), ('accuracy', 0.08)]))])\n",
      "round  2, metrics=OrderedDict([('broadcast', ()), ('aggregation', OrderedDict([('value_sum_process', ()), ('weight_sum_process', ())])), ('train', OrderedDict([('num_examples', 200.0), ('loss', 3.4307578), ('accuracy', 0.12)]))])\n",
      "round  3, metrics=OrderedDict([('broadcast', ()), ('aggregation', OrderedDict([('value_sum_process', ()), ('weight_sum_process', ())])), ('train', OrderedDict([('num_examples', 200.0), ('loss', 3.3220801), ('accuracy', 0.115)]))])\n",
      "round  4, metrics=OrderedDict([('broadcast', ()), ('aggregation', OrderedDict([('value_sum_process', ()), ('weight_sum_process', ())])), ('train', OrderedDict([('num_examples', 200.0), ('loss', 3.2279632), ('accuracy', 0.115)]))])\n",
      "round  5, metrics=OrderedDict([('broadcast', ()), ('aggregation', OrderedDict([('value_sum_process', ()), ('weight_sum_process', ())])), ('train', OrderedDict([('num_examples', 200.0), ('loss', 3.2010534), ('accuracy', 0.1)]))])\n",
      "round  6, metrics=OrderedDict([('broadcast', ()), ('aggregation', OrderedDict([('value_sum_process', ()), ('weight_sum_process', ())])), ('train', OrderedDict([('num_examples', 200.0), ('loss', 3.1649823), ('accuracy', 0.185)]))])\n",
      "round  7, metrics=OrderedDict([('broadcast', ()), ('aggregation', OrderedDict([('value_sum_process', ()), ('weight_sum_process', ())])), ('train', OrderedDict([('num_examples', 200.0), ('loss', 3.3883674), ('accuracy', 0.12)]))])\n",
      "round  8, metrics=OrderedDict([('broadcast', ()), ('aggregation', OrderedDict([('value_sum_process', ()), ('weight_sum_process', ())])), ('train', OrderedDict([('num_examples', 200.0), ('loss', 3.3514624), ('accuracy', 0.225)]))])\n",
      "round  9, metrics=OrderedDict([('broadcast', ()), ('aggregation', OrderedDict([('value_sum_process', ()), ('weight_sum_process', ())])), ('train', OrderedDict([('num_examples', 200.0), ('loss', 3.210318), ('accuracy', 0.22)]))])\n"
     ]
    }
   ],
   "source": [
    "with summary_writer.as_default():\n",
    "    for round_num in range(0, NUMBER_OF_ROUNDS):\n",
    "        state, metrics = federated_averaging.next(state, federated_train_data)\n",
    "            # result = iterative_process.next(state, federated_train_data)\n",
    "            # state = result.state\n",
    "            # metrics = result.metrics\n",
    "        print('round {:2d}, metrics={}'.format(round_num,metrics))\n",
    "        for name, value in metrics['train'].items():\n",
    "          tf.summary.scalar(name, value, step=round_num)\n",
    "        summary_writer.flush()"
   ]
  },
  {
   "cell_type": "markdown",
   "metadata": {},
   "source": [
    "%##############################################\n"
   ]
  },
  {
   "attachments": {},
   "cell_type": "markdown",
   "metadata": {},
   "source": [
    "### Begin Evaluation on Test"
   ]
  },
  {
   "cell_type": "code",
   "execution_count": 117,
   "metadata": {},
   "outputs": [
    {
     "name": "stdout",
     "output_type": "stream",
     "text": [
      "(<\n",
      "  server_model_weights=<\n",
      "    trainable=<\n",
      "      float32[3072,100],\n",
      "      float32[100]\n",
      "    >,\n",
      "    non_trainable=<>\n",
      "  >@SERVER,\n",
      "  federated_dataset={<\n",
      "    x=float32[?,3072],\n",
      "    y=int64[?,1]\n",
      "  >*}@CLIENTS\n",
      "> -> <\n",
      "  num_examples=float32@SERVER,\n",
      "  loss=float32@SERVER,\n",
      "  accuracy=float32@SERVER\n",
      ">)\n"
     ]
    }
   ],
   "source": [
    "#inspect the abstract type signature of the evaluation function\n",
    "evaluation = tff.learning.build_federated_evaluation(cifar100Model)\n",
    "print(evaluation.type_signature.formatted_representation())"
   ]
  },
  {
   "cell_type": "code",
   "execution_count": 118,
   "metadata": {},
   "outputs": [
    {
     "data": {
      "text/plain": [
       "tensorflow_federated.python.learning.model_utils.ModelWeights"
      ]
     },
     "execution_count": 118,
     "metadata": {},
     "output_type": "execute_result"
    }
   ],
   "source": [
    "# Pull final Model wights from training \n",
    "model_weights = tff.learning.ModelWeights(trainable=state.model,non_trainable=state.model)\n",
    "type(model_weights)"
   ]
  },
  {
   "cell_type": "code",
   "execution_count": 119,
   "metadata": {},
   "outputs": [
    {
     "data": {
      "text/plain": [
       "ModelWeights(trainable=ModelWeights(trainable=[array([[-0.01774468, -0.01918945, -0.01918945, ..., -0.01918945,\n",
       "        -0.01918945, -0.01679161],\n",
       "       [-0.01733185, -0.02059056, -0.02059056, ..., -0.02059056,\n",
       "        -0.02059056, -0.01706184],\n",
       "       [-0.01696984, -0.01977619, -0.01977619, ..., -0.0197762 ,\n",
       "        -0.0197762 , -0.01728554],\n",
       "       ...,\n",
       "       [-0.01874358, -0.02141564, -0.02141564, ..., -0.02141563,\n",
       "        -0.02141563, -0.01679137],\n",
       "       [-0.01881838, -0.02167221, -0.02167221, ..., -0.02167221,\n",
       "        -0.02167221, -0.01693343],\n",
       "       [-0.01859659, -0.02080034, -0.02080034, ..., -0.02080034,\n",
       "        -0.02080034, -0.0168134 ]], dtype=float32), array([-0.02047424, -0.03095972, -0.03095972, -0.03095972, -0.03095972,\n",
       "       -0.03095972, -0.03095972, -0.03095972, -0.03095972, -0.02162179,\n",
       "       -0.01232217, -0.03095972, -0.03095972, -0.03095972, -0.03095972,\n",
       "       -0.02275319, -0.01581776, -0.03095972, -0.03095972, -0.03095972,\n",
       "       -0.03095972, -0.02316058, -0.01596369, -0.01470376, -0.03095972,\n",
       "       -0.03095972, -0.03095972, -0.01392745, -0.01627954, -0.01497598,\n",
       "       -0.03095972, -0.03095972, -0.03095972, -0.00664263, -0.00800592,\n",
       "       -0.03095972, -0.03095972, -0.03095972, -0.01643346, -0.01687382,\n",
       "       -0.02093915, -0.03095972, -0.03095972, -0.03095972, -0.0126312 ,\n",
       "       -0.01424935, -0.03095972, -0.03095972, -0.03095972, -0.01373998,\n",
       "       -0.03095972, -0.0144983 , -0.03095972, -0.03095972, -0.03095972,\n",
       "       -0.03095972, -0.03095972, -0.03095972, -0.03095972, -0.03095972,\n",
       "       -0.01375525, -0.01487663, -0.03095972, -0.00650989, -0.00814101,\n",
       "       -0.03095972, -0.01147992, -0.03095972, -0.03095972, -0.03095972,\n",
       "       -0.03095972, -0.01447882, -0.03095972, -0.03095972, -0.03095972,\n",
       "       -0.00650846, -0.03095972, -0.01477187, -0.03095972, -0.03095972,\n",
       "       -0.03095972, -0.03095972, -0.03095972, -0.03095972, -0.03095972,\n",
       "       -0.03095972, -0.01511315, -0.03095972, -0.01784018, -0.03095972,\n",
       "       -0.03095972, -0.03095972, -0.01960814, -0.01158415, -0.03095972,\n",
       "       -0.03095972, -0.03095972, -0.03095972, -0.03095972, -0.01744128],\n",
       "      dtype=float32)], non_trainable=[]), non_trainable=ModelWeights(trainable=[array([[-0.01774468, -0.01918945, -0.01918945, ..., -0.01918945,\n",
       "        -0.01918945, -0.01679161],\n",
       "       [-0.01733185, -0.02059056, -0.02059056, ..., -0.02059056,\n",
       "        -0.02059056, -0.01706184],\n",
       "       [-0.01696984, -0.01977619, -0.01977619, ..., -0.0197762 ,\n",
       "        -0.0197762 , -0.01728554],\n",
       "       ...,\n",
       "       [-0.01874358, -0.02141564, -0.02141564, ..., -0.02141563,\n",
       "        -0.02141563, -0.01679137],\n",
       "       [-0.01881838, -0.02167221, -0.02167221, ..., -0.02167221,\n",
       "        -0.02167221, -0.01693343],\n",
       "       [-0.01859659, -0.02080034, -0.02080034, ..., -0.02080034,\n",
       "        -0.02080034, -0.0168134 ]], dtype=float32), array([-0.02047424, -0.03095972, -0.03095972, -0.03095972, -0.03095972,\n",
       "       -0.03095972, -0.03095972, -0.03095972, -0.03095972, -0.02162179,\n",
       "       -0.01232217, -0.03095972, -0.03095972, -0.03095972, -0.03095972,\n",
       "       -0.02275319, -0.01581776, -0.03095972, -0.03095972, -0.03095972,\n",
       "       -0.03095972, -0.02316058, -0.01596369, -0.01470376, -0.03095972,\n",
       "       -0.03095972, -0.03095972, -0.01392745, -0.01627954, -0.01497598,\n",
       "       -0.03095972, -0.03095972, -0.03095972, -0.00664263, -0.00800592,\n",
       "       -0.03095972, -0.03095972, -0.03095972, -0.01643346, -0.01687382,\n",
       "       -0.02093915, -0.03095972, -0.03095972, -0.03095972, -0.0126312 ,\n",
       "       -0.01424935, -0.03095972, -0.03095972, -0.03095972, -0.01373998,\n",
       "       -0.03095972, -0.0144983 , -0.03095972, -0.03095972, -0.03095972,\n",
       "       -0.03095972, -0.03095972, -0.03095972, -0.03095972, -0.03095972,\n",
       "       -0.01375525, -0.01487663, -0.03095972, -0.00650989, -0.00814101,\n",
       "       -0.03095972, -0.01147992, -0.03095972, -0.03095972, -0.03095972,\n",
       "       -0.03095972, -0.01447882, -0.03095972, -0.03095972, -0.03095972,\n",
       "       -0.00650846, -0.03095972, -0.01477187, -0.03095972, -0.03095972,\n",
       "       -0.03095972, -0.03095972, -0.03095972, -0.03095972, -0.03095972,\n",
       "       -0.03095972, -0.01511315, -0.03095972, -0.01784018, -0.03095972,\n",
       "       -0.03095972, -0.03095972, -0.01960814, -0.01158415, -0.03095972,\n",
       "       -0.03095972, -0.03095972, -0.03095972, -0.03095972, -0.01744128],\n",
       "      dtype=float32)], non_trainable=[]))"
      ]
     },
     "execution_count": 119,
     "metadata": {},
     "output_type": "execute_result"
    }
   ],
   "source": [
    "#Weight Description\n",
    "model_weights"
   ]
  },
  {
   "cell_type": "code",
   "execution_count": 120,
   "metadata": {},
   "outputs": [
    {
     "data": {
      "text/plain": [
       "\"OrderedDict([('num_examples', 200.0), ('loss', 3.3205395), ('accuracy', 0.155)])\""
      ]
     },
     "execution_count": 120,
     "metadata": {},
     "output_type": "execute_result"
    }
   ],
   "source": [
    "# Applying Model Evaluation Test Data \n",
    "train_metrics = evaluation(model_weights.trainable, federated_train_data)\n",
    "str(train_metrics)"
   ]
  }
 ],
 "metadata": {
  "kernelspec": {
   "display_name": "Python 3.8.10 64-bit",
   "language": "python",
   "name": "python3"
  },
  "language_info": {
   "codemirror_mode": {
    "name": "ipython",
    "version": 3
   },
   "file_extension": ".py",
   "mimetype": "text/x-python",
   "name": "python",
   "nbconvert_exporter": "python",
   "pygments_lexer": "ipython3",
   "version": "3.8.10 (tags/v3.8.10:3d8993a, May  3 2021, 11:48:03) [MSC v.1928 64 bit (AMD64)]"
  },
  "orig_nbformat": 4,
  "vscode": {
   "interpreter": {
    "hash": "ef392b7373726638f25c5b5a9ae7a2125364017db5464905a5bcdac062fc1c56"
   }
  }
 },
 "nbformat": 4,
 "nbformat_minor": 2
}
